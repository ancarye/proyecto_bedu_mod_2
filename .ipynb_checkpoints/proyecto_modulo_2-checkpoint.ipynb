{
 "cells": [
  {
   "cell_type": "markdown",
   "id": "d6c4811c",
   "metadata": {},
   "source": [
    "## Importar librerias"
   ]
  },
  {
   "cell_type": "code",
   "execution_count": 53,
   "id": "b894adbb",
   "metadata": {},
   "outputs": [],
   "source": [
    "import pandas as pd\n",
    "import statistics as stc\n",
    "import numpy as npy\n",
    "import matplotlib.pyplot as plt\n",
    "import plotly.express as px\n"
   ]
  },
  {
   "cell_type": "code",
   "execution_count": 22,
   "id": "bdf18f18",
   "metadata": {},
   "outputs": [
    {
     "data": {
      "text/html": [
       "<div>\n",
       "<style scoped>\n",
       "    .dataframe tbody tr th:only-of-type {\n",
       "        vertical-align: middle;\n",
       "    }\n",
       "\n",
       "    .dataframe tbody tr th {\n",
       "        vertical-align: top;\n",
       "    }\n",
       "\n",
       "    .dataframe thead th {\n",
       "        text-align: right;\n",
       "    }\n",
       "</style>\n",
       "<table border=\"1\" class=\"dataframe\">\n",
       "  <thead>\n",
       "    <tr style=\"text-align: right;\">\n",
       "      <th></th>\n",
       "      <th>GAME_ID</th>\n",
       "      <th>TEAM_CITY</th>\n",
       "      <th>PLAYER_NAME</th>\n",
       "      <th>START_POSITION</th>\n",
       "      <th>MIN</th>\n",
       "      <th>OREB</th>\n",
       "      <th>DREB</th>\n",
       "      <th>REB</th>\n",
       "      <th>AST</th>\n",
       "      <th>BLK</th>\n",
       "      <th>PF</th>\n",
       "      <th>PTS</th>\n",
       "      <th>PLUS_MINUS</th>\n",
       "    </tr>\n",
       "  </thead>\n",
       "  <tbody>\n",
       "    <tr>\n",
       "      <th>0</th>\n",
       "      <td>22200477</td>\n",
       "      <td>San Antonio</td>\n",
       "      <td>Romeo Langford</td>\n",
       "      <td>F</td>\n",
       "      <td>18:06</td>\n",
       "      <td>1.0</td>\n",
       "      <td>1.0</td>\n",
       "      <td>2.0</td>\n",
       "      <td>0.0</td>\n",
       "      <td>0.0</td>\n",
       "      <td>5.0</td>\n",
       "      <td>2.0</td>\n",
       "      <td>-2.0</td>\n",
       "    </tr>\n",
       "    <tr>\n",
       "      <th>1</th>\n",
       "      <td>22200477</td>\n",
       "      <td>San Antonio</td>\n",
       "      <td>Jeremy Sochan</td>\n",
       "      <td>F</td>\n",
       "      <td>31:01</td>\n",
       "      <td>6.0</td>\n",
       "      <td>3.0</td>\n",
       "      <td>9.0</td>\n",
       "      <td>6.0</td>\n",
       "      <td>0.0</td>\n",
       "      <td>1.0</td>\n",
       "      <td>23.0</td>\n",
       "      <td>-14.0</td>\n",
       "    </tr>\n",
       "    <tr>\n",
       "      <th>2</th>\n",
       "      <td>22200477</td>\n",
       "      <td>San Antonio</td>\n",
       "      <td>Jakob Poeltl</td>\n",
       "      <td>C</td>\n",
       "      <td>21:42</td>\n",
       "      <td>1.0</td>\n",
       "      <td>3.0</td>\n",
       "      <td>4.0</td>\n",
       "      <td>1.0</td>\n",
       "      <td>0.0</td>\n",
       "      <td>4.0</td>\n",
       "      <td>13.0</td>\n",
       "      <td>-4.0</td>\n",
       "    </tr>\n",
       "    <tr>\n",
       "      <th>3</th>\n",
       "      <td>22200477</td>\n",
       "      <td>San Antonio</td>\n",
       "      <td>Devin Vassell</td>\n",
       "      <td>G</td>\n",
       "      <td>30:20</td>\n",
       "      <td>0.0</td>\n",
       "      <td>9.0</td>\n",
       "      <td>9.0</td>\n",
       "      <td>5.0</td>\n",
       "      <td>0.0</td>\n",
       "      <td>1.0</td>\n",
       "      <td>10.0</td>\n",
       "      <td>-18.0</td>\n",
       "    </tr>\n",
       "    <tr>\n",
       "      <th>4</th>\n",
       "      <td>22200477</td>\n",
       "      <td>San Antonio</td>\n",
       "      <td>Tre Jones</td>\n",
       "      <td>G</td>\n",
       "      <td>27:44</td>\n",
       "      <td>0.0</td>\n",
       "      <td>2.0</td>\n",
       "      <td>2.0</td>\n",
       "      <td>3.0</td>\n",
       "      <td>0.0</td>\n",
       "      <td>2.0</td>\n",
       "      <td>19.0</td>\n",
       "      <td>0.0</td>\n",
       "    </tr>\n",
       "  </tbody>\n",
       "</table>\n",
       "</div>"
      ],
      "text/plain": [
       "    GAME_ID    TEAM_CITY     PLAYER_NAME START_POSITION    MIN  OREB  DREB  \\\n",
       "0  22200477  San Antonio  Romeo Langford              F  18:06   1.0   1.0   \n",
       "1  22200477  San Antonio   Jeremy Sochan              F  31:01   6.0   3.0   \n",
       "2  22200477  San Antonio    Jakob Poeltl              C  21:42   1.0   3.0   \n",
       "3  22200477  San Antonio   Devin Vassell              G  30:20   0.0   9.0   \n",
       "4  22200477  San Antonio       Tre Jones              G  27:44   0.0   2.0   \n",
       "\n",
       "   REB  AST  BLK   PF   PTS  PLUS_MINUS  \n",
       "0  2.0  0.0  0.0  5.0   2.0        -2.0  \n",
       "1  9.0  6.0  0.0  1.0  23.0       -14.0  \n",
       "2  4.0  1.0  0.0  4.0  13.0        -4.0  \n",
       "3  9.0  5.0  0.0  1.0  10.0       -18.0  \n",
       "4  2.0  3.0  0.0  2.0  19.0         0.0  "
      ]
     },
     "execution_count": 22,
     "metadata": {},
     "output_type": "execute_result"
    }
   ],
   "source": [
    "FILENAME ='datasets/games_details.csv'\n",
    "\n",
    "# columnas con las que se trabajaran\n",
    "columns = ['GAME_ID',\n",
    "          'TEAM_CITY',\n",
    "          'PLAYER_NAME',\n",
    "          'START_POSITION',\n",
    "          'MIN',\n",
    "          'OREB',\n",
    "          'DREB',\n",
    "          'REB',\n",
    "          'AST',\n",
    "          'BLK',\n",
    "          'PF',\n",
    "          'PTS',\n",
    "          'PLUS_MINUS']\n",
    "\n",
    "df = pd.read_csv(FILENAME, usecols =columns)\n",
    "\n",
    "df.head()"
   ]
  },
  {
   "cell_type": "markdown",
   "id": "8af1f495",
   "metadata": {},
   "source": [
    "## Mostrar informacion basica del dataset"
   ]
  },
  {
   "cell_type": "code",
   "execution_count": 23,
   "id": "3db35b15",
   "metadata": {
    "scrolled": true
   },
   "outputs": [
    {
     "name": "stdout",
     "output_type": "stream",
     "text": [
      "<class 'pandas.core.frame.DataFrame'>\n",
      "RangeIndex: 668628 entries, 0 to 668627\n",
      "Data columns (total 13 columns):\n",
      " #   Column          Non-Null Count   Dtype  \n",
      "---  ------          --------------   -----  \n",
      " 0   GAME_ID         668628 non-null  int64  \n",
      " 1   TEAM_CITY       668628 non-null  object \n",
      " 2   PLAYER_NAME     668628 non-null  object \n",
      " 3   START_POSITION  255765 non-null  object \n",
      " 4   MIN             558938 non-null  object \n",
      " 5   OREB            558938 non-null  float64\n",
      " 6   DREB            558938 non-null  float64\n",
      " 7   REB             558938 non-null  float64\n",
      " 8   AST             558938 non-null  float64\n",
      " 9   BLK             558938 non-null  float64\n",
      " 10  PF              558938 non-null  float64\n",
      " 11  PTS             558938 non-null  float64\n",
      " 12  PLUS_MINUS      535277 non-null  float64\n",
      "dtypes: float64(8), int64(1), object(4)\n",
      "memory usage: 66.3+ MB\n"
     ]
    }
   ],
   "source": [
    "df.info()"
   ]
  },
  {
   "cell_type": "markdown",
   "id": "0f0e5bf5",
   "metadata": {},
   "source": [
    "## Describe los datos de manera estadististica"
   ]
  },
  {
   "cell_type": "code",
   "execution_count": 24,
   "id": "7bc4f351",
   "metadata": {},
   "outputs": [
    {
     "data": {
      "text/html": [
       "<div>\n",
       "<style scoped>\n",
       "    .dataframe tbody tr th:only-of-type {\n",
       "        vertical-align: middle;\n",
       "    }\n",
       "\n",
       "    .dataframe tbody tr th {\n",
       "        vertical-align: top;\n",
       "    }\n",
       "\n",
       "    .dataframe thead th {\n",
       "        text-align: right;\n",
       "    }\n",
       "</style>\n",
       "<table border=\"1\" class=\"dataframe\">\n",
       "  <thead>\n",
       "    <tr style=\"text-align: right;\">\n",
       "      <th></th>\n",
       "      <th>GAME_ID</th>\n",
       "      <th>OREB</th>\n",
       "      <th>DREB</th>\n",
       "      <th>REB</th>\n",
       "      <th>AST</th>\n",
       "      <th>BLK</th>\n",
       "      <th>PF</th>\n",
       "      <th>PTS</th>\n",
       "      <th>PLUS_MINUS</th>\n",
       "    </tr>\n",
       "  </thead>\n",
       "  <tbody>\n",
       "    <tr>\n",
       "      <th>count</th>\n",
       "      <td>6.686280e+05</td>\n",
       "      <td>558938.000000</td>\n",
       "      <td>558938.000000</td>\n",
       "      <td>558938.00000</td>\n",
       "      <td>558938.000000</td>\n",
       "      <td>558938.000000</td>\n",
       "      <td>558938.000000</td>\n",
       "      <td>558938.000000</td>\n",
       "      <td>535277.000000</td>\n",
       "    </tr>\n",
       "    <tr>\n",
       "      <th>mean</th>\n",
       "      <td>2.171771e+07</td>\n",
       "      <td>1.024212</td>\n",
       "      <td>3.033798</td>\n",
       "      <td>4.05801</td>\n",
       "      <td>2.103958</td>\n",
       "      <td>0.460339</td>\n",
       "      <td>1.999538</td>\n",
       "      <td>9.688218</td>\n",
       "      <td>-0.000488</td>\n",
       "    </tr>\n",
       "    <tr>\n",
       "      <th>std</th>\n",
       "      <td>5.656289e+06</td>\n",
       "      <td>1.397830</td>\n",
       "      <td>2.687384</td>\n",
       "      <td>3.48250</td>\n",
       "      <td>2.475476</td>\n",
       "      <td>0.860962</td>\n",
       "      <td>1.502963</td>\n",
       "      <td>8.082152</td>\n",
       "      <td>10.665573</td>\n",
       "    </tr>\n",
       "    <tr>\n",
       "      <th>min</th>\n",
       "      <td>1.030000e+07</td>\n",
       "      <td>0.000000</td>\n",
       "      <td>0.000000</td>\n",
       "      <td>0.00000</td>\n",
       "      <td>0.000000</td>\n",
       "      <td>0.000000</td>\n",
       "      <td>0.000000</td>\n",
       "      <td>0.000000</td>\n",
       "      <td>-57.000000</td>\n",
       "    </tr>\n",
       "    <tr>\n",
       "      <th>25%</th>\n",
       "      <td>2.070003e+07</td>\n",
       "      <td>0.000000</td>\n",
       "      <td>1.000000</td>\n",
       "      <td>1.00000</td>\n",
       "      <td>0.000000</td>\n",
       "      <td>0.000000</td>\n",
       "      <td>1.000000</td>\n",
       "      <td>3.000000</td>\n",
       "      <td>-7.000000</td>\n",
       "    </tr>\n",
       "    <tr>\n",
       "      <th>50%</th>\n",
       "      <td>2.120096e+07</td>\n",
       "      <td>1.000000</td>\n",
       "      <td>2.000000</td>\n",
       "      <td>3.00000</td>\n",
       "      <td>1.000000</td>\n",
       "      <td>0.000000</td>\n",
       "      <td>2.000000</td>\n",
       "      <td>8.000000</td>\n",
       "      <td>0.000000</td>\n",
       "    </tr>\n",
       "    <tr>\n",
       "      <th>75%</th>\n",
       "      <td>2.180014e+07</td>\n",
       "      <td>2.000000</td>\n",
       "      <td>4.000000</td>\n",
       "      <td>6.00000</td>\n",
       "      <td>3.000000</td>\n",
       "      <td>1.000000</td>\n",
       "      <td>3.000000</td>\n",
       "      <td>14.000000</td>\n",
       "      <td>6.000000</td>\n",
       "    </tr>\n",
       "    <tr>\n",
       "      <th>max</th>\n",
       "      <td>5.210021e+07</td>\n",
       "      <td>18.000000</td>\n",
       "      <td>25.000000</td>\n",
       "      <td>31.00000</td>\n",
       "      <td>25.000000</td>\n",
       "      <td>12.000000</td>\n",
       "      <td>15.000000</td>\n",
       "      <td>81.000000</td>\n",
       "      <td>57.000000</td>\n",
       "    </tr>\n",
       "  </tbody>\n",
       "</table>\n",
       "</div>"
      ],
      "text/plain": [
       "            GAME_ID           OREB           DREB           REB  \\\n",
       "count  6.686280e+05  558938.000000  558938.000000  558938.00000   \n",
       "mean   2.171771e+07       1.024212       3.033798       4.05801   \n",
       "std    5.656289e+06       1.397830       2.687384       3.48250   \n",
       "min    1.030000e+07       0.000000       0.000000       0.00000   \n",
       "25%    2.070003e+07       0.000000       1.000000       1.00000   \n",
       "50%    2.120096e+07       1.000000       2.000000       3.00000   \n",
       "75%    2.180014e+07       2.000000       4.000000       6.00000   \n",
       "max    5.210021e+07      18.000000      25.000000      31.00000   \n",
       "\n",
       "                 AST            BLK             PF            PTS  \\\n",
       "count  558938.000000  558938.000000  558938.000000  558938.000000   \n",
       "mean        2.103958       0.460339       1.999538       9.688218   \n",
       "std         2.475476       0.860962       1.502963       8.082152   \n",
       "min         0.000000       0.000000       0.000000       0.000000   \n",
       "25%         0.000000       0.000000       1.000000       3.000000   \n",
       "50%         1.000000       0.000000       2.000000       8.000000   \n",
       "75%         3.000000       1.000000       3.000000      14.000000   \n",
       "max        25.000000      12.000000      15.000000      81.000000   \n",
       "\n",
       "          PLUS_MINUS  \n",
       "count  535277.000000  \n",
       "mean       -0.000488  \n",
       "std        10.665573  \n",
       "min       -57.000000  \n",
       "25%        -7.000000  \n",
       "50%         0.000000  \n",
       "75%         6.000000  \n",
       "max        57.000000  "
      ]
     },
     "execution_count": 24,
     "metadata": {},
     "output_type": "execute_result"
    }
   ],
   "source": [
    "df.describe()"
   ]
  },
  {
   "cell_type": "markdown",
   "id": "d5320a11",
   "metadata": {},
   "source": [
    "## Revisar la cantidad de datos nulos "
   ]
  },
  {
   "cell_type": "code",
   "execution_count": 25,
   "id": "224f6dca",
   "metadata": {},
   "outputs": [
    {
     "data": {
      "text/html": [
       "<div>\n",
       "<style scoped>\n",
       "    .dataframe tbody tr th:only-of-type {\n",
       "        vertical-align: middle;\n",
       "    }\n",
       "\n",
       "    .dataframe tbody tr th {\n",
       "        vertical-align: top;\n",
       "    }\n",
       "\n",
       "    .dataframe thead th {\n",
       "        text-align: right;\n",
       "    }\n",
       "</style>\n",
       "<table border=\"1\" class=\"dataframe\">\n",
       "  <thead>\n",
       "    <tr style=\"text-align: right;\">\n",
       "      <th></th>\n",
       "      <th>GAME_ID</th>\n",
       "      <th>TEAM_CITY</th>\n",
       "      <th>PLAYER_NAME</th>\n",
       "      <th>START_POSITION</th>\n",
       "      <th>MIN</th>\n",
       "      <th>OREB</th>\n",
       "      <th>DREB</th>\n",
       "      <th>REB</th>\n",
       "      <th>AST</th>\n",
       "      <th>BLK</th>\n",
       "      <th>PF</th>\n",
       "      <th>PTS</th>\n",
       "      <th>PLUS_MINUS</th>\n",
       "    </tr>\n",
       "  </thead>\n",
       "  <tbody>\n",
       "    <tr>\n",
       "      <th>0</th>\n",
       "      <td>False</td>\n",
       "      <td>False</td>\n",
       "      <td>False</td>\n",
       "      <td>False</td>\n",
       "      <td>False</td>\n",
       "      <td>False</td>\n",
       "      <td>False</td>\n",
       "      <td>False</td>\n",
       "      <td>False</td>\n",
       "      <td>False</td>\n",
       "      <td>False</td>\n",
       "      <td>False</td>\n",
       "      <td>False</td>\n",
       "    </tr>\n",
       "    <tr>\n",
       "      <th>1</th>\n",
       "      <td>False</td>\n",
       "      <td>False</td>\n",
       "      <td>False</td>\n",
       "      <td>False</td>\n",
       "      <td>False</td>\n",
       "      <td>False</td>\n",
       "      <td>False</td>\n",
       "      <td>False</td>\n",
       "      <td>False</td>\n",
       "      <td>False</td>\n",
       "      <td>False</td>\n",
       "      <td>False</td>\n",
       "      <td>False</td>\n",
       "    </tr>\n",
       "    <tr>\n",
       "      <th>2</th>\n",
       "      <td>False</td>\n",
       "      <td>False</td>\n",
       "      <td>False</td>\n",
       "      <td>False</td>\n",
       "      <td>False</td>\n",
       "      <td>False</td>\n",
       "      <td>False</td>\n",
       "      <td>False</td>\n",
       "      <td>False</td>\n",
       "      <td>False</td>\n",
       "      <td>False</td>\n",
       "      <td>False</td>\n",
       "      <td>False</td>\n",
       "    </tr>\n",
       "    <tr>\n",
       "      <th>3</th>\n",
       "      <td>False</td>\n",
       "      <td>False</td>\n",
       "      <td>False</td>\n",
       "      <td>False</td>\n",
       "      <td>False</td>\n",
       "      <td>False</td>\n",
       "      <td>False</td>\n",
       "      <td>False</td>\n",
       "      <td>False</td>\n",
       "      <td>False</td>\n",
       "      <td>False</td>\n",
       "      <td>False</td>\n",
       "      <td>False</td>\n",
       "    </tr>\n",
       "    <tr>\n",
       "      <th>4</th>\n",
       "      <td>False</td>\n",
       "      <td>False</td>\n",
       "      <td>False</td>\n",
       "      <td>False</td>\n",
       "      <td>False</td>\n",
       "      <td>False</td>\n",
       "      <td>False</td>\n",
       "      <td>False</td>\n",
       "      <td>False</td>\n",
       "      <td>False</td>\n",
       "      <td>False</td>\n",
       "      <td>False</td>\n",
       "      <td>False</td>\n",
       "    </tr>\n",
       "    <tr>\n",
       "      <th>...</th>\n",
       "      <td>...</td>\n",
       "      <td>...</td>\n",
       "      <td>...</td>\n",
       "      <td>...</td>\n",
       "      <td>...</td>\n",
       "      <td>...</td>\n",
       "      <td>...</td>\n",
       "      <td>...</td>\n",
       "      <td>...</td>\n",
       "      <td>...</td>\n",
       "      <td>...</td>\n",
       "      <td>...</td>\n",
       "      <td>...</td>\n",
       "    </tr>\n",
       "    <tr>\n",
       "      <th>668623</th>\n",
       "      <td>False</td>\n",
       "      <td>False</td>\n",
       "      <td>False</td>\n",
       "      <td>True</td>\n",
       "      <td>False</td>\n",
       "      <td>False</td>\n",
       "      <td>False</td>\n",
       "      <td>False</td>\n",
       "      <td>False</td>\n",
       "      <td>False</td>\n",
       "      <td>False</td>\n",
       "      <td>False</td>\n",
       "      <td>True</td>\n",
       "    </tr>\n",
       "    <tr>\n",
       "      <th>668624</th>\n",
       "      <td>False</td>\n",
       "      <td>False</td>\n",
       "      <td>False</td>\n",
       "      <td>True</td>\n",
       "      <td>False</td>\n",
       "      <td>False</td>\n",
       "      <td>False</td>\n",
       "      <td>False</td>\n",
       "      <td>False</td>\n",
       "      <td>False</td>\n",
       "      <td>False</td>\n",
       "      <td>False</td>\n",
       "      <td>True</td>\n",
       "    </tr>\n",
       "    <tr>\n",
       "      <th>668625</th>\n",
       "      <td>False</td>\n",
       "      <td>False</td>\n",
       "      <td>False</td>\n",
       "      <td>True</td>\n",
       "      <td>False</td>\n",
       "      <td>False</td>\n",
       "      <td>False</td>\n",
       "      <td>False</td>\n",
       "      <td>False</td>\n",
       "      <td>False</td>\n",
       "      <td>False</td>\n",
       "      <td>False</td>\n",
       "      <td>True</td>\n",
       "    </tr>\n",
       "    <tr>\n",
       "      <th>668626</th>\n",
       "      <td>False</td>\n",
       "      <td>False</td>\n",
       "      <td>False</td>\n",
       "      <td>True</td>\n",
       "      <td>False</td>\n",
       "      <td>False</td>\n",
       "      <td>False</td>\n",
       "      <td>False</td>\n",
       "      <td>False</td>\n",
       "      <td>False</td>\n",
       "      <td>False</td>\n",
       "      <td>False</td>\n",
       "      <td>True</td>\n",
       "    </tr>\n",
       "    <tr>\n",
       "      <th>668627</th>\n",
       "      <td>False</td>\n",
       "      <td>False</td>\n",
       "      <td>False</td>\n",
       "      <td>True</td>\n",
       "      <td>False</td>\n",
       "      <td>False</td>\n",
       "      <td>False</td>\n",
       "      <td>False</td>\n",
       "      <td>False</td>\n",
       "      <td>False</td>\n",
       "      <td>False</td>\n",
       "      <td>False</td>\n",
       "      <td>True</td>\n",
       "    </tr>\n",
       "  </tbody>\n",
       "</table>\n",
       "<p>668628 rows × 13 columns</p>\n",
       "</div>"
      ],
      "text/plain": [
       "        GAME_ID  TEAM_CITY  PLAYER_NAME  START_POSITION    MIN   OREB   DREB  \\\n",
       "0         False      False        False           False  False  False  False   \n",
       "1         False      False        False           False  False  False  False   \n",
       "2         False      False        False           False  False  False  False   \n",
       "3         False      False        False           False  False  False  False   \n",
       "4         False      False        False           False  False  False  False   \n",
       "...         ...        ...          ...             ...    ...    ...    ...   \n",
       "668623    False      False        False            True  False  False  False   \n",
       "668624    False      False        False            True  False  False  False   \n",
       "668625    False      False        False            True  False  False  False   \n",
       "668626    False      False        False            True  False  False  False   \n",
       "668627    False      False        False            True  False  False  False   \n",
       "\n",
       "          REB    AST    BLK     PF    PTS  PLUS_MINUS  \n",
       "0       False  False  False  False  False       False  \n",
       "1       False  False  False  False  False       False  \n",
       "2       False  False  False  False  False       False  \n",
       "3       False  False  False  False  False       False  \n",
       "4       False  False  False  False  False       False  \n",
       "...       ...    ...    ...    ...    ...         ...  \n",
       "668623  False  False  False  False  False        True  \n",
       "668624  False  False  False  False  False        True  \n",
       "668625  False  False  False  False  False        True  \n",
       "668626  False  False  False  False  False        True  \n",
       "668627  False  False  False  False  False        True  \n",
       "\n",
       "[668628 rows x 13 columns]"
      ]
     },
     "execution_count": 25,
     "metadata": {},
     "output_type": "execute_result"
    }
   ],
   "source": [
    "df.isnull()"
   ]
  },
  {
   "cell_type": "code",
   "execution_count": 26,
   "id": "82d62fc9",
   "metadata": {},
   "outputs": [
    {
     "data": {
      "text/html": [
       "<div>\n",
       "<style scoped>\n",
       "    .dataframe tbody tr th:only-of-type {\n",
       "        vertical-align: middle;\n",
       "    }\n",
       "\n",
       "    .dataframe tbody tr th {\n",
       "        vertical-align: top;\n",
       "    }\n",
       "\n",
       "    .dataframe thead th {\n",
       "        text-align: right;\n",
       "    }\n",
       "</style>\n",
       "<table border=\"1\" class=\"dataframe\">\n",
       "  <thead>\n",
       "    <tr style=\"text-align: right;\">\n",
       "      <th></th>\n",
       "      <th>0</th>\n",
       "    </tr>\n",
       "  </thead>\n",
       "  <tbody>\n",
       "    <tr>\n",
       "      <th>GAME_ID</th>\n",
       "      <td>0</td>\n",
       "    </tr>\n",
       "    <tr>\n",
       "      <th>TEAM_CITY</th>\n",
       "      <td>0</td>\n",
       "    </tr>\n",
       "    <tr>\n",
       "      <th>PLAYER_NAME</th>\n",
       "      <td>0</td>\n",
       "    </tr>\n",
       "    <tr>\n",
       "      <th>START_POSITION</th>\n",
       "      <td>412863</td>\n",
       "    </tr>\n",
       "    <tr>\n",
       "      <th>MIN</th>\n",
       "      <td>109690</td>\n",
       "    </tr>\n",
       "    <tr>\n",
       "      <th>OREB</th>\n",
       "      <td>109690</td>\n",
       "    </tr>\n",
       "    <tr>\n",
       "      <th>DREB</th>\n",
       "      <td>109690</td>\n",
       "    </tr>\n",
       "    <tr>\n",
       "      <th>REB</th>\n",
       "      <td>109690</td>\n",
       "    </tr>\n",
       "    <tr>\n",
       "      <th>AST</th>\n",
       "      <td>109690</td>\n",
       "    </tr>\n",
       "    <tr>\n",
       "      <th>BLK</th>\n",
       "      <td>109690</td>\n",
       "    </tr>\n",
       "    <tr>\n",
       "      <th>PF</th>\n",
       "      <td>109690</td>\n",
       "    </tr>\n",
       "    <tr>\n",
       "      <th>PTS</th>\n",
       "      <td>109690</td>\n",
       "    </tr>\n",
       "    <tr>\n",
       "      <th>PLUS_MINUS</th>\n",
       "      <td>133351</td>\n",
       "    </tr>\n",
       "  </tbody>\n",
       "</table>\n",
       "</div>"
      ],
      "text/plain": [
       "                     0\n",
       "GAME_ID              0\n",
       "TEAM_CITY            0\n",
       "PLAYER_NAME          0\n",
       "START_POSITION  412863\n",
       "MIN             109690\n",
       "OREB            109690\n",
       "DREB            109690\n",
       "REB             109690\n",
       "AST             109690\n",
       "BLK             109690\n",
       "PF              109690\n",
       "PTS             109690\n",
       "PLUS_MINUS      133351"
      ]
     },
     "execution_count": 26,
     "metadata": {},
     "output_type": "execute_result"
    }
   ],
   "source": [
    "df.isnull().sum().to_frame()"
   ]
  },
  {
   "cell_type": "markdown",
   "id": "7e11c431",
   "metadata": {},
   "source": [
    "## Se cambian los nombres de encabezados a minuscula"
   ]
  },
  {
   "cell_type": "code",
   "execution_count": 27,
   "id": "2fc1caac",
   "metadata": {},
   "outputs": [],
   "source": [
    "df.columns = df.columns.str.lower().str.strip()"
   ]
  },
  {
   "cell_type": "code",
   "execution_count": 28,
   "id": "4048da78",
   "metadata": {},
   "outputs": [
    {
     "data": {
      "text/html": [
       "<div>\n",
       "<style scoped>\n",
       "    .dataframe tbody tr th:only-of-type {\n",
       "        vertical-align: middle;\n",
       "    }\n",
       "\n",
       "    .dataframe tbody tr th {\n",
       "        vertical-align: top;\n",
       "    }\n",
       "\n",
       "    .dataframe thead th {\n",
       "        text-align: right;\n",
       "    }\n",
       "</style>\n",
       "<table border=\"1\" class=\"dataframe\">\n",
       "  <thead>\n",
       "    <tr style=\"text-align: right;\">\n",
       "      <th></th>\n",
       "      <th>game_id</th>\n",
       "      <th>team_city</th>\n",
       "      <th>player_name</th>\n",
       "      <th>start_position</th>\n",
       "      <th>min</th>\n",
       "      <th>oreb</th>\n",
       "      <th>dreb</th>\n",
       "      <th>reb</th>\n",
       "      <th>ast</th>\n",
       "      <th>blk</th>\n",
       "      <th>pf</th>\n",
       "      <th>pts</th>\n",
       "      <th>plus_minus</th>\n",
       "    </tr>\n",
       "  </thead>\n",
       "  <tbody>\n",
       "    <tr>\n",
       "      <th>0</th>\n",
       "      <td>22200477</td>\n",
       "      <td>San Antonio</td>\n",
       "      <td>Romeo Langford</td>\n",
       "      <td>F</td>\n",
       "      <td>18:06</td>\n",
       "      <td>1.0</td>\n",
       "      <td>1.0</td>\n",
       "      <td>2.0</td>\n",
       "      <td>0.0</td>\n",
       "      <td>0.0</td>\n",
       "      <td>5.0</td>\n",
       "      <td>2.0</td>\n",
       "      <td>-2.0</td>\n",
       "    </tr>\n",
       "    <tr>\n",
       "      <th>1</th>\n",
       "      <td>22200477</td>\n",
       "      <td>San Antonio</td>\n",
       "      <td>Jeremy Sochan</td>\n",
       "      <td>F</td>\n",
       "      <td>31:01</td>\n",
       "      <td>6.0</td>\n",
       "      <td>3.0</td>\n",
       "      <td>9.0</td>\n",
       "      <td>6.0</td>\n",
       "      <td>0.0</td>\n",
       "      <td>1.0</td>\n",
       "      <td>23.0</td>\n",
       "      <td>-14.0</td>\n",
       "    </tr>\n",
       "    <tr>\n",
       "      <th>2</th>\n",
       "      <td>22200477</td>\n",
       "      <td>San Antonio</td>\n",
       "      <td>Jakob Poeltl</td>\n",
       "      <td>C</td>\n",
       "      <td>21:42</td>\n",
       "      <td>1.0</td>\n",
       "      <td>3.0</td>\n",
       "      <td>4.0</td>\n",
       "      <td>1.0</td>\n",
       "      <td>0.0</td>\n",
       "      <td>4.0</td>\n",
       "      <td>13.0</td>\n",
       "      <td>-4.0</td>\n",
       "    </tr>\n",
       "    <tr>\n",
       "      <th>3</th>\n",
       "      <td>22200477</td>\n",
       "      <td>San Antonio</td>\n",
       "      <td>Devin Vassell</td>\n",
       "      <td>G</td>\n",
       "      <td>30:20</td>\n",
       "      <td>0.0</td>\n",
       "      <td>9.0</td>\n",
       "      <td>9.0</td>\n",
       "      <td>5.0</td>\n",
       "      <td>0.0</td>\n",
       "      <td>1.0</td>\n",
       "      <td>10.0</td>\n",
       "      <td>-18.0</td>\n",
       "    </tr>\n",
       "    <tr>\n",
       "      <th>4</th>\n",
       "      <td>22200477</td>\n",
       "      <td>San Antonio</td>\n",
       "      <td>Tre Jones</td>\n",
       "      <td>G</td>\n",
       "      <td>27:44</td>\n",
       "      <td>0.0</td>\n",
       "      <td>2.0</td>\n",
       "      <td>2.0</td>\n",
       "      <td>3.0</td>\n",
       "      <td>0.0</td>\n",
       "      <td>2.0</td>\n",
       "      <td>19.0</td>\n",
       "      <td>0.0</td>\n",
       "    </tr>\n",
       "  </tbody>\n",
       "</table>\n",
       "</div>"
      ],
      "text/plain": [
       "    game_id    team_city     player_name start_position    min  oreb  dreb  \\\n",
       "0  22200477  San Antonio  Romeo Langford              F  18:06   1.0   1.0   \n",
       "1  22200477  San Antonio   Jeremy Sochan              F  31:01   6.0   3.0   \n",
       "2  22200477  San Antonio    Jakob Poeltl              C  21:42   1.0   3.0   \n",
       "3  22200477  San Antonio   Devin Vassell              G  30:20   0.0   9.0   \n",
       "4  22200477  San Antonio       Tre Jones              G  27:44   0.0   2.0   \n",
       "\n",
       "   reb  ast  blk   pf   pts  plus_minus  \n",
       "0  2.0  0.0  0.0  5.0   2.0        -2.0  \n",
       "1  9.0  6.0  0.0  1.0  23.0       -14.0  \n",
       "2  4.0  1.0  0.0  4.0  13.0        -4.0  \n",
       "3  9.0  5.0  0.0  1.0  10.0       -18.0  \n",
       "4  2.0  3.0  0.0  2.0  19.0         0.0  "
      ]
     },
     "execution_count": 28,
     "metadata": {},
     "output_type": "execute_result"
    }
   ],
   "source": [
    "df.head()"
   ]
  },
  {
   "cell_type": "code",
   "execution_count": 29,
   "id": "b495141e",
   "metadata": {},
   "outputs": [
    {
     "data": {
      "text/html": [
       "<div>\n",
       "<style scoped>\n",
       "    .dataframe tbody tr th:only-of-type {\n",
       "        vertical-align: middle;\n",
       "    }\n",
       "\n",
       "    .dataframe tbody tr th {\n",
       "        vertical-align: top;\n",
       "    }\n",
       "\n",
       "    .dataframe thead th {\n",
       "        text-align: right;\n",
       "    }\n",
       "</style>\n",
       "<table border=\"1\" class=\"dataframe\">\n",
       "  <thead>\n",
       "    <tr style=\"text-align: right;\">\n",
       "      <th></th>\n",
       "      <th>0</th>\n",
       "      <th>1</th>\n",
       "      <th>2</th>\n",
       "      <th>3</th>\n",
       "    </tr>\n",
       "  </thead>\n",
       "  <tbody>\n",
       "    <tr>\n",
       "      <th>0</th>\n",
       "      <td>Romeo</td>\n",
       "      <td>Langford</td>\n",
       "      <td>None</td>\n",
       "      <td>None</td>\n",
       "    </tr>\n",
       "    <tr>\n",
       "      <th>1</th>\n",
       "      <td>Jeremy</td>\n",
       "      <td>Sochan</td>\n",
       "      <td>None</td>\n",
       "      <td>None</td>\n",
       "    </tr>\n",
       "    <tr>\n",
       "      <th>2</th>\n",
       "      <td>Jakob</td>\n",
       "      <td>Poeltl</td>\n",
       "      <td>None</td>\n",
       "      <td>None</td>\n",
       "    </tr>\n",
       "    <tr>\n",
       "      <th>3</th>\n",
       "      <td>Devin</td>\n",
       "      <td>Vassell</td>\n",
       "      <td>None</td>\n",
       "      <td>None</td>\n",
       "    </tr>\n",
       "    <tr>\n",
       "      <th>4</th>\n",
       "      <td>Tre</td>\n",
       "      <td>Jones</td>\n",
       "      <td>None</td>\n",
       "      <td>None</td>\n",
       "    </tr>\n",
       "    <tr>\n",
       "      <th>...</th>\n",
       "      <td>...</td>\n",
       "      <td>...</td>\n",
       "      <td>...</td>\n",
       "      <td>...</td>\n",
       "    </tr>\n",
       "    <tr>\n",
       "      <th>668623</th>\n",
       "      <td>Jordan</td>\n",
       "      <td>Hamilton</td>\n",
       "      <td>None</td>\n",
       "      <td>None</td>\n",
       "    </tr>\n",
       "    <tr>\n",
       "      <th>668624</th>\n",
       "      <td>Kenneth</td>\n",
       "      <td>Faried</td>\n",
       "      <td>None</td>\n",
       "      <td>None</td>\n",
       "    </tr>\n",
       "    <tr>\n",
       "      <th>668625</th>\n",
       "      <td>Kosta</td>\n",
       "      <td>Koufos</td>\n",
       "      <td>None</td>\n",
       "      <td>None</td>\n",
       "    </tr>\n",
       "    <tr>\n",
       "      <th>668626</th>\n",
       "      <td>Timofey</td>\n",
       "      <td>Mozgov</td>\n",
       "      <td>None</td>\n",
       "      <td>None</td>\n",
       "    </tr>\n",
       "    <tr>\n",
       "      <th>668627</th>\n",
       "      <td>Ty</td>\n",
       "      <td>Lawson</td>\n",
       "      <td>None</td>\n",
       "      <td>None</td>\n",
       "    </tr>\n",
       "  </tbody>\n",
       "</table>\n",
       "<p>668628 rows × 4 columns</p>\n",
       "</div>"
      ],
      "text/plain": [
       "              0         1     2     3\n",
       "0         Romeo  Langford  None  None\n",
       "1        Jeremy    Sochan  None  None\n",
       "2         Jakob    Poeltl  None  None\n",
       "3         Devin   Vassell  None  None\n",
       "4           Tre     Jones  None  None\n",
       "...         ...       ...   ...   ...\n",
       "668623   Jordan  Hamilton  None  None\n",
       "668624  Kenneth    Faried  None  None\n",
       "668625    Kosta    Koufos  None  None\n",
       "668626  Timofey    Mozgov  None  None\n",
       "668627       Ty    Lawson  None  None\n",
       "\n",
       "[668628 rows x 4 columns]"
      ]
     },
     "execution_count": 29,
     "metadata": {},
     "output_type": "execute_result"
    }
   ],
   "source": [
    "\n",
    "df['player_name'].str.split(' ', expand = True)\n"
   ]
  },
  {
   "cell_type": "code",
   "execution_count": 30,
   "id": "f605c685",
   "metadata": {},
   "outputs": [
    {
     "data": {
      "text/html": [
       "<div>\n",
       "<style scoped>\n",
       "    .dataframe tbody tr th:only-of-type {\n",
       "        vertical-align: middle;\n",
       "    }\n",
       "\n",
       "    .dataframe tbody tr th {\n",
       "        vertical-align: top;\n",
       "    }\n",
       "\n",
       "    .dataframe thead th {\n",
       "        text-align: right;\n",
       "    }\n",
       "</style>\n",
       "<table border=\"1\" class=\"dataframe\">\n",
       "  <thead>\n",
       "    <tr style=\"text-align: right;\">\n",
       "      <th></th>\n",
       "      <th>game_id</th>\n",
       "      <th>team_city</th>\n",
       "      <th>player_name</th>\n",
       "      <th>start_position</th>\n",
       "      <th>min</th>\n",
       "      <th>oreb</th>\n",
       "      <th>dreb</th>\n",
       "      <th>reb</th>\n",
       "      <th>ast</th>\n",
       "      <th>blk</th>\n",
       "      <th>pf</th>\n",
       "      <th>pts</th>\n",
       "      <th>plus_minus</th>\n",
       "    </tr>\n",
       "  </thead>\n",
       "  <tbody>\n",
       "    <tr>\n",
       "      <th>0</th>\n",
       "      <td>22200477</td>\n",
       "      <td>San Antonio</td>\n",
       "      <td>Romeo Langford</td>\n",
       "      <td>F</td>\n",
       "      <td>18:06</td>\n",
       "      <td>1.0</td>\n",
       "      <td>1.0</td>\n",
       "      <td>2.0</td>\n",
       "      <td>0.0</td>\n",
       "      <td>0.0</td>\n",
       "      <td>5.0</td>\n",
       "      <td>2.0</td>\n",
       "      <td>-2.0</td>\n",
       "    </tr>\n",
       "    <tr>\n",
       "      <th>1</th>\n",
       "      <td>22200477</td>\n",
       "      <td>San Antonio</td>\n",
       "      <td>Jeremy Sochan</td>\n",
       "      <td>F</td>\n",
       "      <td>31:01</td>\n",
       "      <td>6.0</td>\n",
       "      <td>3.0</td>\n",
       "      <td>9.0</td>\n",
       "      <td>6.0</td>\n",
       "      <td>0.0</td>\n",
       "      <td>1.0</td>\n",
       "      <td>23.0</td>\n",
       "      <td>-14.0</td>\n",
       "    </tr>\n",
       "    <tr>\n",
       "      <th>2</th>\n",
       "      <td>22200477</td>\n",
       "      <td>San Antonio</td>\n",
       "      <td>Jakob Poeltl</td>\n",
       "      <td>C</td>\n",
       "      <td>21:42</td>\n",
       "      <td>1.0</td>\n",
       "      <td>3.0</td>\n",
       "      <td>4.0</td>\n",
       "      <td>1.0</td>\n",
       "      <td>0.0</td>\n",
       "      <td>4.0</td>\n",
       "      <td>13.0</td>\n",
       "      <td>-4.0</td>\n",
       "    </tr>\n",
       "    <tr>\n",
       "      <th>3</th>\n",
       "      <td>22200477</td>\n",
       "      <td>San Antonio</td>\n",
       "      <td>Devin Vassell</td>\n",
       "      <td>G</td>\n",
       "      <td>30:20</td>\n",
       "      <td>0.0</td>\n",
       "      <td>9.0</td>\n",
       "      <td>9.0</td>\n",
       "      <td>5.0</td>\n",
       "      <td>0.0</td>\n",
       "      <td>1.0</td>\n",
       "      <td>10.0</td>\n",
       "      <td>-18.0</td>\n",
       "    </tr>\n",
       "    <tr>\n",
       "      <th>4</th>\n",
       "      <td>22200477</td>\n",
       "      <td>San Antonio</td>\n",
       "      <td>Tre Jones</td>\n",
       "      <td>G</td>\n",
       "      <td>27:44</td>\n",
       "      <td>0.0</td>\n",
       "      <td>2.0</td>\n",
       "      <td>2.0</td>\n",
       "      <td>3.0</td>\n",
       "      <td>0.0</td>\n",
       "      <td>2.0</td>\n",
       "      <td>19.0</td>\n",
       "      <td>0.0</td>\n",
       "    </tr>\n",
       "  </tbody>\n",
       "</table>\n",
       "</div>"
      ],
      "text/plain": [
       "    game_id    team_city     player_name start_position    min  oreb  dreb  \\\n",
       "0  22200477  San Antonio  Romeo Langford              F  18:06   1.0   1.0   \n",
       "1  22200477  San Antonio   Jeremy Sochan              F  31:01   6.0   3.0   \n",
       "2  22200477  San Antonio    Jakob Poeltl              C  21:42   1.0   3.0   \n",
       "3  22200477  San Antonio   Devin Vassell              G  30:20   0.0   9.0   \n",
       "4  22200477  San Antonio       Tre Jones              G  27:44   0.0   2.0   \n",
       "\n",
       "   reb  ast  blk   pf   pts  plus_minus  \n",
       "0  2.0  0.0  0.0  5.0   2.0        -2.0  \n",
       "1  9.0  6.0  0.0  1.0  23.0       -14.0  \n",
       "2  4.0  1.0  0.0  4.0  13.0        -4.0  \n",
       "3  9.0  5.0  0.0  1.0  10.0       -18.0  \n",
       "4  2.0  3.0  0.0  2.0  19.0         0.0  "
      ]
     },
     "execution_count": 30,
     "metadata": {},
     "output_type": "execute_result"
    }
   ],
   "source": [
    "df['player_name'] = df['player_name'].str.rstrip()\n",
    "df.head()"
   ]
  },
  {
   "cell_type": "code",
   "execution_count": 31,
   "id": "6490c3f4",
   "metadata": {},
   "outputs": [
    {
     "data": {
      "text/plain": [
       "0          [Romeo, Langford]\n",
       "1           [Jeremy, Sochan]\n",
       "2            [Jakob, Poeltl]\n",
       "3           [Devin, Vassell]\n",
       "4               [Tre, Jones]\n",
       "                 ...        \n",
       "668623    [Jordan, Hamilton]\n",
       "668624     [Kenneth, Faried]\n",
       "668625       [Kosta, Koufos]\n",
       "668626     [Timofey, Mozgov]\n",
       "668627          [Ty, Lawson]\n",
       "Name: player_name, Length: 668628, dtype: object"
      ]
     },
     "execution_count": 31,
     "metadata": {},
     "output_type": "execute_result"
    }
   ],
   "source": [
    "df['player_name'].str.split()"
   ]
  },
  {
   "cell_type": "markdown",
   "id": "9645db86",
   "metadata": {},
   "source": [
    "## Jugadores a travez de los años que han estado en cada equipo"
   ]
  },
  {
   "cell_type": "code",
   "execution_count": 58,
   "id": "156b8c7c",
   "metadata": {},
   "outputs": [
    {
     "name": "stdout",
     "output_type": "stream",
     "text": [
      "                team_city  unique_players\n",
      "              Los Angeles             382\n",
      "              New Orleans             285\n",
      "                Cleveland             282\n",
      "                  Houston             276\n",
      "                 New York             266\n",
      "                  Atlanta             265\n",
      "                  Memphis             259\n",
      "               Sacramento             255\n",
      "             Philadelphia             255\n",
      "                   Dallas             255\n",
      "                   Boston             247\n",
      "                Milwaukee             244\n",
      "                  Phoenix             242\n",
      "             Golden State             240\n",
      "               Washington             238\n",
      "                Minnesota             233\n",
      "                  Toronto             232\n",
      "                    Miami             228\n",
      "                  Chicago             228\n",
      "                     Utah             226\n",
      "                  Orlando             226\n",
      "                 Portland             224\n",
      "                Charlotte             223\n",
      "              San Antonio             220\n",
      "                  Detroit             216\n",
      "                  Indiana             206\n",
      "                   Denver             202\n",
      "            Oklahoma City             187\n",
      "                 Brooklyn             174\n",
      "               New Jersey             126\n",
      "                       LA             110\n",
      "                  Seattle              54\n",
      "New Orleans/Oklahoma City              28\n"
     ]
    }
   ],
   "source": [
    "unique_players_by_team = df.drop_duplicates(subset=['team_city', 'player_name'])\n",
    "unique_player_counts = unique_players_by_team.groupby('team_city').size().reset_index(name='unique_players')\n",
    "unique_player_counts_sorted = unique_player_counts.sort_values(by='unique_players', ascending=False)\n",
    "print(unique_player_counts_sorted.to_string(index=False))"
   ]
  },
  {
   "cell_type": "markdown",
   "id": "2a62b217",
   "metadata": {},
   "source": [
    "### Jugador con mas apariciones en el dataset"
   ]
  },
  {
   "cell_type": "code",
   "execution_count": 33,
   "id": "8454c758",
   "metadata": {},
   "outputs": [
    {
     "data": {
      "text/plain": [
       "pandas.core.series.Series"
      ]
     },
     "execution_count": 33,
     "metadata": {},
     "output_type": "execute_result"
    }
   ],
   "source": [
    "highest_source = df['player_name'].value_counts()\n",
    "type(highest_source)"
   ]
  },
  {
   "cell_type": "code",
   "execution_count": 34,
   "id": "2c85a183",
   "metadata": {},
   "outputs": [
    {
     "data": {
      "text/html": [
       "<div>\n",
       "<style scoped>\n",
       "    .dataframe tbody tr th:only-of-type {\n",
       "        vertical-align: middle;\n",
       "    }\n",
       "\n",
       "    .dataframe tbody tr th {\n",
       "        vertical-align: top;\n",
       "    }\n",
       "\n",
       "    .dataframe thead th {\n",
       "        text-align: right;\n",
       "    }\n",
       "</style>\n",
       "<table border=\"1\" class=\"dataframe\">\n",
       "  <thead>\n",
       "    <tr style=\"text-align: right;\">\n",
       "      <th></th>\n",
       "      <th>count</th>\n",
       "    </tr>\n",
       "    <tr>\n",
       "      <th>player_name</th>\n",
       "      <th></th>\n",
       "    </tr>\n",
       "  </thead>\n",
       "  <tbody>\n",
       "    <tr>\n",
       "      <th>LeBron James</th>\n",
       "      <td>1795</td>\n",
       "    </tr>\n",
       "    <tr>\n",
       "      <th>Udonis Haslem</th>\n",
       "      <td>1720</td>\n",
       "    </tr>\n",
       "    <tr>\n",
       "      <th>Andre Iguodala</th>\n",
       "      <td>1560</td>\n",
       "    </tr>\n",
       "    <tr>\n",
       "      <th>Dwight Howard</th>\n",
       "      <td>1541</td>\n",
       "    </tr>\n",
       "    <tr>\n",
       "      <th>Kyle Korver</th>\n",
       "      <td>1534</td>\n",
       "    </tr>\n",
       "    <tr>\n",
       "      <th>...</th>\n",
       "      <td>...</td>\n",
       "    </tr>\n",
       "    <tr>\n",
       "      <th>Nate Williams</th>\n",
       "      <td>1</td>\n",
       "    </tr>\n",
       "    <tr>\n",
       "      <th>Anwar Ferguson</th>\n",
       "      <td>1</td>\n",
       "    </tr>\n",
       "    <tr>\n",
       "      <th>Jon Horford</th>\n",
       "      <td>1</td>\n",
       "    </tr>\n",
       "    <tr>\n",
       "      <th>Michael Holyfield</th>\n",
       "      <td>1</td>\n",
       "    </tr>\n",
       "    <tr>\n",
       "      <th>Kevin Anderson</th>\n",
       "      <td>1</td>\n",
       "    </tr>\n",
       "  </tbody>\n",
       "</table>\n",
       "<p>2664 rows × 1 columns</p>\n",
       "</div>"
      ],
      "text/plain": [
       "                   count\n",
       "player_name             \n",
       "LeBron James        1795\n",
       "Udonis Haslem       1720\n",
       "Andre Iguodala      1560\n",
       "Dwight Howard       1541\n",
       "Kyle Korver         1534\n",
       "...                  ...\n",
       "Nate Williams          1\n",
       "Anwar Ferguson         1\n",
       "Jon Horford            1\n",
       "Michael Holyfield      1\n",
       "Kevin Anderson         1\n",
       "\n",
       "[2664 rows x 1 columns]"
      ]
     },
     "execution_count": 34,
     "metadata": {},
     "output_type": "execute_result"
    }
   ],
   "source": [
    "highest_source.to_frame()"
   ]
  },
  {
   "cell_type": "markdown",
   "id": "0303fa31",
   "metadata": {},
   "source": [
    "## Agrupa por nombre de jugador y el total de puntos que ha anotado en el tiempo"
   ]
  },
  {
   "cell_type": "code",
   "execution_count": 62,
   "id": "521c6f9a",
   "metadata": {},
   "outputs": [
    {
     "name": "stdout",
     "output_type": "stream",
     "text": [
      "   player_name    pts\n",
      "   A.J. Guyton    4.0\n",
      "   A.J. Lawson   18.0\n",
      "      AJ Green   60.0\n",
      "    AJ Griffin  334.0\n",
      "    AJ Hammons   82.0\n",
      "      AJ Price 1832.0\n",
      "   Aamir Simms    4.0\n",
      "  Aaron Brooks 7141.0\n",
      "   Aaron Craft   12.0\n",
      "  Aaron Gordon 8075.0\n",
      "    Aaron Gray 1237.0\n",
      "Aaron Harrison  119.0\n",
      "   Aaron Henry   12.0\n",
      " Aaron Holiday 2198.0\n",
      " Aaron Jackson   13.0\n",
      "   Aaron McKie  908.0\n",
      "   Aaron Miles   60.0\n",
      " Aaron Nesmith  756.0\n",
      " Aaron Wiggins  631.0\n",
      "Aaron Williams  961.0\n"
     ]
    }
   ],
   "source": [
    "total_points_by_player = df.groupby('player_name')['pts'].sum().reset_index().head(20)\n",
    "print(total_points_by_player.to_string(index=False))"
   ]
  },
  {
   "cell_type": "markdown",
   "id": "922317bd",
   "metadata": {},
   "source": [
    "## Top 20 de los jugadores de la NBA con mas anotaciones en el tiempo"
   ]
  },
  {
   "cell_type": "code",
   "execution_count": 61,
   "id": "bc69f9d4",
   "metadata": {},
   "outputs": [
    {
     "name": "stdout",
     "output_type": "stream",
     "text": [
      "      player_name     pts\n",
      "     LeBron James 46638.0\n",
      "     Kevin Durant 32327.0\n",
      "  Carmelo Anthony 31658.0\n",
      "     James Harden 28460.0\n",
      "      Dwyane Wade 28102.0\n",
      "    Dirk Nowitzki 27927.0\n",
      "      Kobe Bryant 27287.0\n",
      "Russell Westbrook 27180.0\n",
      "    Stephen Curry 25826.0\n",
      "       Chris Paul 25086.0\n",
      "    DeMar DeRozan 23083.0\n",
      "LaMarcus Aldridge 23023.0\n",
      "    Dwight Howard 22494.0\n",
      "      Joe Johnson 21774.0\n",
      "      Tony Parker 21612.0\n",
      "      Paul Pierce 21191.0\n",
      "        Pau Gasol 20819.0\n",
      "   Damian Lillard 20554.0\n",
      "     Vince Carter 20404.0\n",
      "       Tim Duncan 20177.0\n"
     ]
    }
   ],
   "source": [
    "total_points_by_player_sorted = total_points_by_player.sort_values(by='pts', ascending=False)\n",
    "top_20_players = total_points_by_player_sorted.head(20)\n",
    "print(top_20_players.to_string(index=False))"
   ]
  },
  {
   "cell_type": "code",
   "execution_count": 56,
   "id": "ff3d0c36",
   "metadata": {},
   "outputs": [
    {
     "data": {
      "image/png": "[encoded data removed]",
      "text/plain": [
       "<Figure size 1200x800 with 1 Axes>"
      ]
     },
     "metadata": {},
     "output_type": "display_data"
    }
   ],
   "source": [
    "\n",
    "# Obtener los nombres de los jugadores y sus respectivos puntajes\n",
    "players = top_20_players['player_name']\n",
    "points = top_20_players['pts']\n",
    "\n",
    "# Definir una lista de colores para cada barra\n",
    "colors = ['skyblue', 'salmon', 'lightgreen', 'orange', 'lightcoral',\n",
    "          'deepskyblue', 'mediumseagreen', 'gold', 'orchid', 'tomato',\n",
    "          'dodgerblue', 'limegreen', 'lightpink', 'sandybrown', 'violet',\n",
    "          'royalblue', 'palegreen', 'khaki', 'hotpink', 'peru']\n",
    "\n",
    "# Crear el gráfico de barras\n",
    "plt.figure(figsize=(12, 8))\n",
    "plt.bar(players, points, color=colors)\n",
    "\n",
    "\n",
    "# Añadir título y etiquetas\n",
    "plt.title('Top 20 jugadores con más puntos')\n",
    "plt.xlabel('Players')\n",
    "plt.ylabel('Points')\n",
    "\n",
    "# Rotar los nombres de los jugadores para mejor visualización\n",
    "plt.xticks(rotation=45)\n",
    "\n",
    "# Mostrar el gráfico de barras\n",
    "plt.tight_layout()\n",
    "plt.show()"
   ]
  },
  {
   "cell_type": "markdown",
   "id": "5e474b35",
   "metadata": {},
   "source": [
    "## Top 10 de los equipos mas anotadores"
   ]
  },
  {
   "cell_type": "code",
   "execution_count": 63,
   "id": "6e98ff92",
   "metadata": {},
   "outputs": [
    {
     "name": "stdout",
     "output_type": "stream",
     "text": [
      "   team_city      pts\n",
      " Los Angeles 297683.0\n",
      "Golden State 195194.0\n",
      "      Boston 191326.0\n",
      " San Antonio 190787.0\n",
      "       Miami 189667.0\n",
      "      Denver 189364.0\n",
      "     Phoenix 187900.0\n",
      "      Dallas 187348.0\n",
      "     Houston 185594.0\n",
      "   Cleveland 182103.0\n"
     ]
    }
   ],
   "source": [
    "total_points_by_city = df.groupby('team_city')['pts'].sum().reset_index()\n",
    "total_points_by_city_sorted = total_points_by_city.sort_values(by='pts', ascending=False)\n",
    "top_10_cities = total_points_by_city_sorted.head(10)\n",
    "# Imprimir el total de puntos anotados por team_city\n",
    "print(top_10_cities.to_string(index=False))"
   ]
  },
  {
   "cell_type": "code",
   "execution_count": 57,
   "id": "3287d280",
   "metadata": {},
   "outputs": [
    {
     "data": {
      "application/vnd.plotly.v1+json": {
       "config": {
        "plotlyServerURL": "https://plot.ly"
       },
       "data": [
        {
         "branchvalues": "total",
         "domain": {
          "x": [
           0,
           1
          ],
          "y": [
           0,
           1
          ]
         },
         "hovertemplate": "labels=%{label}<br>pts=%{value}<br>parent=%{parent}<br>id=%{id}<extra></extra>",
         "ids": [
          "Atlanta",
          "Boston",
          "Brooklyn",
          "Charlotte",
          "Chicago",
          "Cleveland",
          "Dallas",
          "Denver",
          "Detroit",
          "Golden State",
          "Houston",
          "Indiana",
          "LA",
          "Los Angeles",
          "Memphis",
          "Miami",
          "Milwaukee",
          "Minnesota",
          "New Jersey",
          "New Orleans",
          "New Orleans/Oklahoma City",
          "New York",
          "Oklahoma City",
          "Orlando",
          "Philadelphia",
          "Phoenix",
          "Portland",
          "Sacramento",
          "San Antonio",
          "Seattle",
          "Toronto",
          "Utah",
          "Washington"
         ],
         "labels": [
          "Atlanta",
          "Boston",
          "Brooklyn",
          "Charlotte",
          "Chicago",
          "Cleveland",
          "Dallas",
          "Denver",
          "Detroit",
          "Golden State",
          "Houston",
          "Indiana",
          "LA",
          "Los Angeles",
          "Memphis",
          "Miami",
          "Milwaukee",
          "Minnesota",
          "New Jersey",
          "New Orleans",
          "New Orleans/Oklahoma City",
          "New York",
          "Oklahoma City",
          "Orlando",
          "Philadelphia",
          "Phoenix",
          "Portland",
          "Sacramento",
          "San Antonio",
          "Seattle",
          "Toronto",
          "Utah",
          "Washington"
         ],
         "name": "",
         "parents": [
          "",
          "",
          "",
          "",
          "",
          "",
          "",
          "",
          "",
          "",
          "",
          "",
          "",
          "",
          "",
          "",
          "",
          "",
          "",
          "",
          "",
          "",
          "",
          "",
          "",
          "",
          "",
          "",
          "",
          "",
          "",
          "",
          ""
         ],
         "type": "sunburst",
         "values": [
          179638,
          191326,
          99118,
          159302,
          176008,
          182103,
          187348,
          189364,
          175103,
          195194,
          185594,
          179884,
          74336,
          297683,
          176734,
          189667,
          181211,
          172229,
          76073,
          158084,
          15444,
          168903,
          140550,
          174442,
          175344,
          187900,
          177888,
          174684,
          190787,
          44200,
          181337,
          179947,
          177688
         ]
        }
       ],
       "layout": {
        "legend": {
         "tracegroupgap": 0
        },
        "margin": {
         "t": 60
        },
        "template": {
         "data": {
          "bar": [
           {
            "error_x": {
             "color": "#2a3f5f"
            },
            "error_y": {
             "color": "#2a3f5f"
            },
            "marker": {
             "line": {
              "color": "#E5ECF6",
              "width": 0.5
             },
             "pattern": {
              "fillmode": "overlay",
              "size": 10,
              "solidity": 0.2
             }
            },
            "type": "bar"
           }
          ],
          "barpolar": [
           {
            "marker": {
             "line": {
              "color": "#E5ECF6",
              "width": 0.5
             },
             "pattern": {
              "fillmode": "overlay",
              "size": 10,
              "solidity": 0.2
             }
            },
            "type": "barpolar"
           }
          ],
          "carpet": [
           {
            "aaxis": {
             "endlinecolor": "#2a3f5f",
             "gridcolor": "white",
             "linecolor": "white",
             "minorgridcolor": "white",
             "startlinecolor": "#2a3f5f"
            },
            "baxis": {
             "endlinecolor": "#2a3f5f",
             "gridcolor": "white",
             "linecolor": "white",
             "minorgridcolor": "white",
             "startlinecolor": "#2a3f5f"
            },
            "type": "carpet"
           }
          ],
          "choropleth": [
           {
            "colorbar": {
             "outlinewidth": 0,
             "ticks": ""
            },
            "type": "choropleth"
           }
          ],
          "contour": [
           {
            "colorbar": {
             "outlinewidth": 0,
             "ticks": ""
            },
            "colorscale": [
             [
              0,
              "#0d0887"
             ],
             [
              0.1111111111111111,
              "#46039f"
             ],
             [
              0.2222222222222222,
              "#7201a8"
             ],
             [
              0.3333333333333333,
              "#9c179e"
             ],
             [
              0.4444444444444444,
              "#bd3786"
             ],
             [
              0.5555555555555556,
              "#d8576b"
             ],
             [
              0.6666666666666666,
              "#ed7953"
             ],
             [
              0.7777777777777778,
              "#fb9f3a"
             ],
             [
              0.8888888888888888,
              "#fdca26"
             ],
             [
              1,
              "#f0f921"
             ]
            ],
            "type": "contour"
           }
          ],
          "contourcarpet": [
           {
            "colorbar": {
             "outlinewidth": 0,
             "ticks": ""
            },
            "type": "contourcarpet"
           }
          ],
          "heatmap": [
           {
            "colorbar": {
             "outlinewidth": 0,
             "ticks": ""
            },
            "colorscale": [
             [
              0,
              "#0d0887"
             ],
             [
              0.1111111111111111,
              "#46039f"
             ],
             [
              0.2222222222222222,
              "#7201a8"
             ],
             [
              0.3333333333333333,
              "#9c179e"
             ],
             [
              0.4444444444444444,
              "#bd3786"
             ],
             [
              0.5555555555555556,
              "#d8576b"
             ],
             [
              0.6666666666666666,
              "#ed7953"
             ],
             [
              0.7777777777777778,
              "#fb9f3a"
             ],
             [
              0.8888888888888888,
              "#fdca26"
             ],
             [
              1,
              "#f0f921"
             ]
            ],
            "type": "heatmap"
           }
          ],
          "heatmapgl": [
           {
            "colorbar": {
             "outlinewidth": 0,
             "ticks": ""
            },
            "colorscale": [
             [
              0,
              "#0d0887"
             ],
             [
              0.1111111111111111,
              "#46039f"
             ],
             [
              0.2222222222222222,
              "#7201a8"
             ],
             [
              0.3333333333333333,
              "#9c179e"
             ],
             [
              0.4444444444444444,
              "#bd3786"
             ],
             [
              0.5555555555555556,
              "#d8576b"
             ],
             [
              0.6666666666666666,
              "#ed7953"
             ],
             [
              0.7777777777777778,
              "#fb9f3a"
             ],
             [
              0.8888888888888888,
              "#fdca26"
             ],
             [
              1,
              "#f0f921"
             ]
            ],
            "type": "heatmapgl"
           }
          ],
          "histogram": [
           {
            "marker": {
             "pattern": {
              "fillmode": "overlay",
              "size": 10,
              "solidity": 0.2
             }
            },
            "type": "histogram"
           }
          ],
          "histogram2d": [
           {
            "colorbar": {
             "outlinewidth": 0,
             "ticks": ""
            },
            "colorscale": [
             [
              0,
              "#0d0887"
             ],
             [
              0.1111111111111111,
              "#46039f"
             ],
             [
              0.2222222222222222,
              "#7201a8"
             ],
             [
              0.3333333333333333,
              "#9c179e"
             ],
             [
              0.4444444444444444,
              "#bd3786"
             ],
             [
              0.5555555555555556,
              "#d8576b"
             ],
             [
              0.6666666666666666,
              "#ed7953"
             ],
             [
              0.7777777777777778,
              "#fb9f3a"
             ],
             [
              0.8888888888888888,
              "#fdca26"
             ],
             [
              1,
              "#f0f921"
             ]
            ],
            "type": "histogram2d"
           }
          ],
          "histogram2dcontour": [
           {
            "colorbar": {
             "outlinewidth": 0,
             "ticks": ""
            },
            "colorscale": [
             [
              0,
              "#0d0887"
             ],
             [
              0.1111111111111111,
              "#46039f"
             ],
             [
              0.2222222222222222,
              "#7201a8"
             ],
             [
              0.3333333333333333,
              "#9c179e"
             ],
             [
              0.4444444444444444,
              "#bd3786"
             ],
             [
              0.5555555555555556,
              "#d8576b"
             ],
             [
              0.6666666666666666,
              "#ed7953"
             ],
             [
              0.7777777777777778,
              "#fb9f3a"
             ],
             [
              0.8888888888888888,
              "#fdca26"
             ],
             [
              1,
              "#f0f921"
             ]
            ],
            "type": "histogram2dcontour"
           }
          ],
          "mesh3d": [
           {
            "colorbar": {
             "outlinewidth": 0,
             "ticks": ""
            },
            "type": "mesh3d"
           }
          ],
          "parcoords": [
           {
            "line": {
             "colorbar": {
              "outlinewidth": 0,
              "ticks": ""
             }
            },
            "type": "parcoords"
           }
          ],
          "pie": [
           {
            "automargin": true,
            "type": "pie"
           }
          ],
          "scatter": [
           {
            "fillpattern": {
             "fillmode": "overlay",
             "size": 10,
             "solidity": 0.2
            },
            "type": "scatter"
           }
          ],
          "scatter3d": [
           {
            "line": {
             "colorbar": {
              "outlinewidth": 0,
              "ticks": ""
             }
            },
            "marker": {
             "colorbar": {
              "outlinewidth": 0,
              "ticks": ""
             }
            },
            "type": "scatter3d"
           }
          ],
          "scattercarpet": [
           {
            "marker": {
             "colorbar": {
              "outlinewidth": 0,
              "ticks": ""
             }
            },
            "type": "scattercarpet"
           }
          ],
          "scattergeo": [
           {
            "marker": {
             "colorbar": {
              "outlinewidth": 0,
              "ticks": ""
             }
            },
            "type": "scattergeo"
           }
          ],
          "scattergl": [
           {
            "marker": {
             "colorbar": {
              "outlinewidth": 0,
              "ticks": ""
             }
            },
            "type": "scattergl"
           }
          ],
          "scattermapbox": [
           {
            "marker": {
             "colorbar": {
              "outlinewidth": 0,
              "ticks": ""
             }
            },
            "type": "scattermapbox"
           }
          ],
          "scatterpolar": [
           {
            "marker": {
             "colorbar": {
              "outlinewidth": 0,
              "ticks": ""
             }
            },
            "type": "scatterpolar"
           }
          ],
          "scatterpolargl": [
           {
            "marker": {
             "colorbar": {
              "outlinewidth": 0,
              "ticks": ""
             }
            },
            "type": "scatterpolargl"
           }
          ],
          "scatterternary": [
           {
            "marker": {
             "colorbar": {
              "outlinewidth": 0,
              "ticks": ""
             }
            },
            "type": "scatterternary"
           }
          ],
          "surface": [
           {
            "colorbar": {
             "outlinewidth": 0,
             "ticks": ""
            },
            "colorscale": [
             [
              0,
              "#0d0887"
             ],
             [
              0.1111111111111111,
              "#46039f"
             ],
             [
              0.2222222222222222,
              "#7201a8"
             ],
             [
              0.3333333333333333,
              "#9c179e"
             ],
             [
              0.4444444444444444,
              "#bd3786"
             ],
             [
              0.5555555555555556,
              "#d8576b"
             ],
             [
              0.6666666666666666,
              "#ed7953"
             ],
             [
              0.7777777777777778,
              "#fb9f3a"
             ],
             [
              0.8888888888888888,
              "#fdca26"
             ],
             [
              1,
              "#f0f921"
             ]
            ],
            "type": "surface"
           }
          ],
          "table": [
           {
            "cells": {
             "fill": {
              "color": "#EBF0F8"
             },
             "line": {
              "color": "white"
             }
            },
            "header": {
             "fill": {
              "color": "#C8D4E3"
             },
             "line": {
              "color": "white"
             }
            },
            "type": "table"
           }
          ]
         },
         "layout": {
          "annotationdefaults": {
           "arrowcolor": "#2a3f5f",
           "arrowhead": 0,
           "arrowwidth": 1
          },
          "autotypenumbers": "strict",
          "coloraxis": {
           "colorbar": {
            "outlinewidth": 0,
            "ticks": ""
           }
          },
          "colorscale": {
           "diverging": [
            [
             0,
             "#8e0152"
            ],
            [
             0.1,
             "#c51b7d"
            ],
            [
             0.2,
             "#de77ae"
            ],
            [
             0.3,
             "#f1b6da"
            ],
            [
             0.4,
             "#fde0ef"
            ],
            [
             0.5,
             "#f7f7f7"
            ],
            [
             0.6,
             "#e6f5d0"
            ],
            [
             0.7,
             "#b8e186"
            ],
            [
             0.8,
             "#7fbc41"
            ],
            [
             0.9,
             "#4d9221"
            ],
            [
             1,
             "#276419"
            ]
           ],
           "sequential": [
            [
             0,
             "#0d0887"
            ],
            [
             0.1111111111111111,
             "#46039f"
            ],
            [
             0.2222222222222222,
             "#7201a8"
            ],
            [
             0.3333333333333333,
             "#9c179e"
            ],
            [
             0.4444444444444444,
             "#bd3786"
            ],
            [
             0.5555555555555556,
             "#d8576b"
            ],
            [
             0.6666666666666666,
             "#ed7953"
            ],
            [
             0.7777777777777778,
             "#fb9f3a"
            ],
            [
             0.8888888888888888,
             "#fdca26"
            ],
            [
             1,
             "#f0f921"
            ]
           ],
           "sequentialminus": [
            [
             0,
             "#0d0887"
            ],
            [
             0.1111111111111111,
             "#46039f"
            ],
            [
             0.2222222222222222,
             "#7201a8"
            ],
            [
             0.3333333333333333,
             "#9c179e"
            ],
            [
             0.4444444444444444,
             "#bd3786"
            ],
            [
             0.5555555555555556,
             "#d8576b"
            ],
            [
             0.6666666666666666,
             "#ed7953"
            ],
            [
             0.7777777777777778,
             "#fb9f3a"
            ],
            [
             0.8888888888888888,
             "#fdca26"
            ],
            [
             1,
             "#f0f921"
            ]
           ]
          },
          "colorway": [
           "#636efa",
           "#EF553B",
           "#00cc96",
           "#ab63fa",
           "#FFA15A",
           "#19d3f3",
           "#FF6692",
           "#B6E880",
           "#FF97FF",
           "#FECB52"
          ],
          "font": {
           "color": "#2a3f5f"
          },
          "geo": {
           "bgcolor": "white",
           "lakecolor": "white",
           "landcolor": "#E5ECF6",
           "showlakes": true,
           "showland": true,
           "subunitcolor": "white"
          },
          "hoverlabel": {
           "align": "left"
          },
          "hovermode": "closest",
          "mapbox": {
           "style": "light"
          },
          "paper_bgcolor": "white",
          "plot_bgcolor": "#E5ECF6",
          "polar": {
           "angularaxis": {
            "gridcolor": "white",
            "linecolor": "white",
            "ticks": ""
           },
           "bgcolor": "#E5ECF6",
           "radialaxis": {
            "gridcolor": "white",
            "linecolor": "white",
            "ticks": ""
           }
          },
          "scene": {
           "xaxis": {
            "backgroundcolor": "#E5ECF6",
            "gridcolor": "white",
            "gridwidth": 2,
            "linecolor": "white",
            "showbackground": true,
            "ticks": "",
            "zerolinecolor": "white"
           },
           "yaxis": {
            "backgroundcolor": "#E5ECF6",
            "gridcolor": "white",
            "gridwidth": 2,
            "linecolor": "white",
            "showbackground": true,
            "ticks": "",
            "zerolinecolor": "white"
           },
           "zaxis": {
            "backgroundcolor": "#E5ECF6",
            "gridcolor": "white",
            "gridwidth": 2,
            "linecolor": "white",
            "showbackground": true,
            "ticks": "",
            "zerolinecolor": "white"
           }
          },
          "shapedefaults": {
           "line": {
            "color": "#2a3f5f"
           }
          },
          "ternary": {
           "aaxis": {
            "gridcolor": "white",
            "linecolor": "white",
            "ticks": ""
           },
           "baxis": {
            "gridcolor": "white",
            "linecolor": "white",
            "ticks": ""
           },
           "bgcolor": "#E5ECF6",
           "caxis": {
            "gridcolor": "white",
            "linecolor": "white",
            "ticks": ""
           }
          },
          "title": {
           "x": 0.05
          },
          "xaxis": {
           "automargin": true,
           "gridcolor": "white",
           "linecolor": "white",
           "ticks": "",
           "title": {
            "standoff": 15
           },
           "zerolinecolor": "white",
           "zerolinewidth": 2
          },
          "yaxis": {
           "automargin": true,
           "gridcolor": "white",
           "linecolor": "white",
           "ticks": "",
           "title": {
            "standoff": 15
           },
           "zerolinecolor": "white",
           "zerolinewidth": 2
          }
         }
        },
        "title": {
         "text": "Puntos por Equipo"
        }
       }
      },
      "text/html": [
       "<div>                            <div id=\"4ed2009d-5f30-4ddd-a8eb-50f97f6e8b85\" class=\"plotly-graph-div\" style=\"height:525px; width:100%;\"></div>            <script type=\"text/javascript\">                require([\"plotly\"], function(Plotly) {                    window.PLOTLYENV=window.PLOTLYENV || {};                                    if (document.getElementById(\"4ed2009d-5f30-4ddd-a8eb-50f97f6e8b85\")) {                    Plotly.newPlot(                        \"4ed2009d-5f30-4ddd-a8eb-50f97f6e8b85\",                        [{\"branchvalues\":\"total\",\"domain\":{\"x\":[0.0,1.0],\"y\":[0.0,1.0]},\"hovertemplate\":\"labels=%{label}<br>pts=%{value}<br>parent=%{parent}<br>id=%{id}<extra></extra>\",\"ids\":[\"Atlanta\",\"Boston\",\"Brooklyn\",\"Charlotte\",\"Chicago\",\"Cleveland\",\"Dallas\",\"Denver\",\"Detroit\",\"Golden State\",\"Houston\",\"Indiana\",\"LA\",\"Los Angeles\",\"Memphis\",\"Miami\",\"Milwaukee\",\"Minnesota\",\"New Jersey\",\"New Orleans\",\"New Orleans/Oklahoma City\",\"New York\",\"Oklahoma City\",\"Orlando\",\"Philadelphia\",\"Phoenix\",\"Portland\",\"Sacramento\",\"San Antonio\",\"Seattle\",\"Toronto\",\"Utah\",\"Washington\"],\"labels\":[\"Atlanta\",\"Boston\",\"Brooklyn\",\"Charlotte\",\"Chicago\",\"Cleveland\",\"Dallas\",\"Denver\",\"Detroit\",\"Golden State\",\"Houston\",\"Indiana\",\"LA\",\"Los Angeles\",\"Memphis\",\"Miami\",\"Milwaukee\",\"Minnesota\",\"New Jersey\",\"New Orleans\",\"New Orleans/Oklahoma City\",\"New York\",\"Oklahoma City\",\"Orlando\",\"Philadelphia\",\"Phoenix\",\"Portland\",\"Sacramento\",\"San Antonio\",\"Seattle\",\"Toronto\",\"Utah\",\"Washington\"],\"name\":\"\",\"parents\":[\"\",\"\",\"\",\"\",\"\",\"\",\"\",\"\",\"\",\"\",\"\",\"\",\"\",\"\",\"\",\"\",\"\",\"\",\"\",\"\",\"\",\"\",\"\",\"\",\"\",\"\",\"\",\"\",\"\",\"\",\"\",\"\",\"\"],\"values\":[179638.0,191326.0,99118.0,159302.0,176008.0,182103.0,187348.0,189364.0,175103.0,195194.0,185594.0,179884.0,74336.0,297683.0,176734.0,189667.0,181211.0,172229.0,76073.0,158084.0,15444.0,168903.0,140550.0,174442.0,175344.0,187900.0,177888.0,174684.0,190787.0,44200.0,181337.0,179947.0,177688.0],\"type\":\"sunburst\"}],                        {\"template\":{\"data\":{\"histogram2dcontour\":[{\"type\":\"histogram2dcontour\",\"colorbar\":{\"outlinewidth\":0,\"ticks\":\"\"},\"colorscale\":[[0.0,\"#0d0887\"],[0.1111111111111111,\"#46039f\"],[0.2222222222222222,\"#7201a8\"],[0.3333333333333333,\"#9c179e\"],[0.4444444444444444,\"#bd3786\"],[0.5555555555555556,\"#d8576b\"],[0.6666666666666666,\"#ed7953\"],[0.7777777777777778,\"#fb9f3a\"],[0.8888888888888888,\"#fdca26\"],[1.0,\"#f0f921\"]]}],\"choropleth\":[{\"type\":\"choropleth\",\"colorbar\":{\"outlinewidth\":0,\"ticks\":\"\"}}],\"histogram2d\":[{\"type\":\"histogram2d\",\"colorbar\":{\"outlinewidth\":0,\"ticks\":\"\"},\"colorscale\":[[0.0,\"#0d0887\"],[0.1111111111111111,\"#46039f\"],[0.2222222222222222,\"#7201a8\"],[0.3333333333333333,\"#9c179e\"],[0.4444444444444444,\"#bd3786\"],[0.5555555555555556,\"#d8576b\"],[0.6666666666666666,\"#ed7953\"],[0.7777777777777778,\"#fb9f3a\"],[0.8888888888888888,\"#fdca26\"],[1.0,\"#f0f921\"]]}],\"heatmap\":[{\"type\":\"heatmap\",\"colorbar\":{\"outlinewidth\":0,\"ticks\":\"\"},\"colorscale\":[[0.0,\"#0d0887\"],[0.1111111111111111,\"#46039f\"],[0.2222222222222222,\"#7201a8\"],[0.3333333333333333,\"#9c179e\"],[0.4444444444444444,\"#bd3786\"],[0.5555555555555556,\"#d8576b\"],[0.6666666666666666,\"#ed7953\"],[0.7777777777777778,\"#fb9f3a\"],[0.8888888888888888,\"#fdca26\"],[1.0,\"#f0f921\"]]}],\"heatmapgl\":[{\"type\":\"heatmapgl\",\"colorbar\":{\"outlinewidth\":0,\"ticks\":\"\"},\"colorscale\":[[0.0,\"#0d0887\"],[0.1111111111111111,\"#46039f\"],[0.2222222222222222,\"#7201a8\"],[0.3333333333333333,\"#9c179e\"],[0.4444444444444444,\"#bd3786\"],[0.5555555555555556,\"#d8576b\"],[0.6666666666666666,\"#ed7953\"],[0.7777777777777778,\"#fb9f3a\"],[0.8888888888888888,\"#fdca26\"],[1.0,\"#f0f921\"]]}],\"contourcarpet\":[{\"type\":\"contourcarpet\",\"colorbar\":{\"outlinewidth\":0,\"ticks\":\"\"}}],\"contour\":[{\"type\":\"contour\",\"colorbar\":{\"outlinewidth\":0,\"ticks\":\"\"},\"colorscale\":[[0.0,\"#0d0887\"],[0.1111111111111111,\"#46039f\"],[0.2222222222222222,\"#7201a8\"],[0.3333333333333333,\"#9c179e\"],[0.4444444444444444,\"#bd3786\"],[0.5555555555555556,\"#d8576b\"],[0.6666666666666666,\"#ed7953\"],[0.7777777777777778,\"#fb9f3a\"],[0.8888888888888888,\"#fdca26\"],[1.0,\"#f0f921\"]]}],\"surface\":[{\"type\":\"surface\",\"colorbar\":{\"outlinewidth\":0,\"ticks\":\"\"},\"colorscale\":[[0.0,\"#0d0887\"],[0.1111111111111111,\"#46039f\"],[0.2222222222222222,\"#7201a8\"],[0.3333333333333333,\"#9c179e\"],[0.4444444444444444,\"#bd3786\"],[0.5555555555555556,\"#d8576b\"],[0.6666666666666666,\"#ed7953\"],[0.7777777777777778,\"#fb9f3a\"],[0.8888888888888888,\"#fdca26\"],[1.0,\"#f0f921\"]]}],\"mesh3d\":[{\"type\":\"mesh3d\",\"colorbar\":{\"outlinewidth\":0,\"ticks\":\"\"}}],\"scatter\":[{\"fillpattern\":{\"fillmode\":\"overlay\",\"size\":10,\"solidity\":0.2},\"type\":\"scatter\"}],\"parcoords\":[{\"type\":\"parcoords\",\"line\":{\"colorbar\":{\"outlinewidth\":0,\"ticks\":\"\"}}}],\"scatterpolargl\":[{\"type\":\"scatterpolargl\",\"marker\":{\"colorbar\":{\"outlinewidth\":0,\"ticks\":\"\"}}}],\"bar\":[{\"error_x\":{\"color\":\"#2a3f5f\"},\"error_y\":{\"color\":\"#2a3f5f\"},\"marker\":{\"line\":{\"color\":\"#E5ECF6\",\"width\":0.5},\"pattern\":{\"fillmode\":\"overlay\",\"size\":10,\"solidity\":0.2}},\"type\":\"bar\"}],\"scattergeo\":[{\"type\":\"scattergeo\",\"marker\":{\"colorbar\":{\"outlinewidth\":0,\"ticks\":\"\"}}}],\"scatterpolar\":[{\"type\":\"scatterpolar\",\"marker\":{\"colorbar\":{\"outlinewidth\":0,\"ticks\":\"\"}}}],\"histogram\":[{\"marker\":{\"pattern\":{\"fillmode\":\"overlay\",\"size\":10,\"solidity\":0.2}},\"type\":\"histogram\"}],\"scattergl\":[{\"type\":\"scattergl\",\"marker\":{\"colorbar\":{\"outlinewidth\":0,\"ticks\":\"\"}}}],\"scatter3d\":[{\"type\":\"scatter3d\",\"line\":{\"colorbar\":{\"outlinewidth\":0,\"ticks\":\"\"}},\"marker\":{\"colorbar\":{\"outlinewidth\":0,\"ticks\":\"\"}}}],\"scattermapbox\":[{\"type\":\"scattermapbox\",\"marker\":{\"colorbar\":{\"outlinewidth\":0,\"ticks\":\"\"}}}],\"scatterternary\":[{\"type\":\"scatterternary\",\"marker\":{\"colorbar\":{\"outlinewidth\":0,\"ticks\":\"\"}}}],\"scattercarpet\":[{\"type\":\"scattercarpet\",\"marker\":{\"colorbar\":{\"outlinewidth\":0,\"ticks\":\"\"}}}],\"carpet\":[{\"aaxis\":{\"endlinecolor\":\"#2a3f5f\",\"gridcolor\":\"white\",\"linecolor\":\"white\",\"minorgridcolor\":\"white\",\"startlinecolor\":\"#2a3f5f\"},\"baxis\":{\"endlinecolor\":\"#2a3f5f\",\"gridcolor\":\"white\",\"linecolor\":\"white\",\"minorgridcolor\":\"white\",\"startlinecolor\":\"#2a3f5f\"},\"type\":\"carpet\"}],\"table\":[{\"cells\":{\"fill\":{\"color\":\"#EBF0F8\"},\"line\":{\"color\":\"white\"}},\"header\":{\"fill\":{\"color\":\"#C8D4E3\"},\"line\":{\"color\":\"white\"}},\"type\":\"table\"}],\"barpolar\":[{\"marker\":{\"line\":{\"color\":\"#E5ECF6\",\"width\":0.5},\"pattern\":{\"fillmode\":\"overlay\",\"size\":10,\"solidity\":0.2}},\"type\":\"barpolar\"}],\"pie\":[{\"automargin\":true,\"type\":\"pie\"}]},\"layout\":{\"autotypenumbers\":\"strict\",\"colorway\":[\"#636efa\",\"#EF553B\",\"#00cc96\",\"#ab63fa\",\"#FFA15A\",\"#19d3f3\",\"#FF6692\",\"#B6E880\",\"#FF97FF\",\"#FECB52\"],\"font\":{\"color\":\"#2a3f5f\"},\"hovermode\":\"closest\",\"hoverlabel\":{\"align\":\"left\"},\"paper_bgcolor\":\"white\",\"plot_bgcolor\":\"#E5ECF6\",\"polar\":{\"bgcolor\":\"#E5ECF6\",\"angularaxis\":{\"gridcolor\":\"white\",\"linecolor\":\"white\",\"ticks\":\"\"},\"radialaxis\":{\"gridcolor\":\"white\",\"linecolor\":\"white\",\"ticks\":\"\"}},\"ternary\":{\"bgcolor\":\"#E5ECF6\",\"aaxis\":{\"gridcolor\":\"white\",\"linecolor\":\"white\",\"ticks\":\"\"},\"baxis\":{\"gridcolor\":\"white\",\"linecolor\":\"white\",\"ticks\":\"\"},\"caxis\":{\"gridcolor\":\"white\",\"linecolor\":\"white\",\"ticks\":\"\"}},\"coloraxis\":{\"colorbar\":{\"outlinewidth\":0,\"ticks\":\"\"}},\"colorscale\":{\"sequential\":[[0.0,\"#0d0887\"],[0.1111111111111111,\"#46039f\"],[0.2222222222222222,\"#7201a8\"],[0.3333333333333333,\"#9c179e\"],[0.4444444444444444,\"#bd3786\"],[0.5555555555555556,\"#d8576b\"],[0.6666666666666666,\"#ed7953\"],[0.7777777777777778,\"#fb9f3a\"],[0.8888888888888888,\"#fdca26\"],[1.0,\"#f0f921\"]],\"sequentialminus\":[[0.0,\"#0d0887\"],[0.1111111111111111,\"#46039f\"],[0.2222222222222222,\"#7201a8\"],[0.3333333333333333,\"#9c179e\"],[0.4444444444444444,\"#bd3786\"],[0.5555555555555556,\"#d8576b\"],[0.6666666666666666,\"#ed7953\"],[0.7777777777777778,\"#fb9f3a\"],[0.8888888888888888,\"#fdca26\"],[1.0,\"#f0f921\"]],\"diverging\":[[0,\"#8e0152\"],[0.1,\"#c51b7d\"],[0.2,\"#de77ae\"],[0.3,\"#f1b6da\"],[0.4,\"#fde0ef\"],[0.5,\"#f7f7f7\"],[0.6,\"#e6f5d0\"],[0.7,\"#b8e186\"],[0.8,\"#7fbc41\"],[0.9,\"#4d9221\"],[1,\"#276419\"]]},\"xaxis\":{\"gridcolor\":\"white\",\"linecolor\":\"white\",\"ticks\":\"\",\"title\":{\"standoff\":15},\"zerolinecolor\":\"white\",\"automargin\":true,\"zerolinewidth\":2},\"yaxis\":{\"gridcolor\":\"white\",\"linecolor\":\"white\",\"ticks\":\"\",\"title\":{\"standoff\":15},\"zerolinecolor\":\"white\",\"automargin\":true,\"zerolinewidth\":2},\"scene\":{\"xaxis\":{\"backgroundcolor\":\"#E5ECF6\",\"gridcolor\":\"white\",\"linecolor\":\"white\",\"showbackground\":true,\"ticks\":\"\",\"zerolinecolor\":\"white\",\"gridwidth\":2},\"yaxis\":{\"backgroundcolor\":\"#E5ECF6\",\"gridcolor\":\"white\",\"linecolor\":\"white\",\"showbackground\":true,\"ticks\":\"\",\"zerolinecolor\":\"white\",\"gridwidth\":2},\"zaxis\":{\"backgroundcolor\":\"#E5ECF6\",\"gridcolor\":\"white\",\"linecolor\":\"white\",\"showbackground\":true,\"ticks\":\"\",\"zerolinecolor\":\"white\",\"gridwidth\":2}},\"shapedefaults\":{\"line\":{\"color\":\"#2a3f5f\"}},\"annotationdefaults\":{\"arrowcolor\":\"#2a3f5f\",\"arrowhead\":0,\"arrowwidth\":1},\"geo\":{\"bgcolor\":\"white\",\"landcolor\":\"#E5ECF6\",\"subunitcolor\":\"white\",\"showland\":true,\"showlakes\":true,\"lakecolor\":\"white\"},\"title\":{\"x\":0.05},\"mapbox\":{\"style\":\"light\"}}},\"legend\":{\"tracegroupgap\":0},\"margin\":{\"t\":60},\"title\":{\"text\":\"Puntos por Equipo\"}},                        {\"responsive\": true}                    ).then(function(){\n",
       "                            \n",
       "var gd = document.getElementById('4ed2009d-5f30-4ddd-a8eb-50f97f6e8b85');\n",
       "var x = new MutationObserver(function (mutations, observer) {{\n",
       "        var display = window.getComputedStyle(gd).display;\n",
       "        if (!display || display === 'none') {{\n",
       "            console.log([gd, 'removed!']);\n",
       "            Plotly.purge(gd);\n",
       "            observer.disconnect();\n",
       "        }}\n",
       "}});\n",
       "\n",
       "// Listen for the removal of the full notebook cells\n",
       "var notebookContainer = gd.closest('#notebook-container');\n",
       "if (notebookContainer) {{\n",
       "    x.observe(notebookContainer, {childList: true});\n",
       "}}\n",
       "\n",
       "// Listen for the clearing of the current output cell\n",
       "var outputEl = gd.closest('.output');\n",
       "if (outputEl) {{\n",
       "    x.observe(outputEl, {childList: true});\n",
       "}}\n",
       "\n",
       "                        })                };                });            </script>        </div>"
      ]
     },
     "metadata": {},
     "output_type": "display_data"
    }
   ],
   "source": [
    "fig = px.sunburst(total_points_by_city, path=['team_city'], values='pts')\n",
    "fig.update_layout(title_text='Puntos por Equipo')\n",
    "fig.show()\n"
   ]
  },
  {
   "cell_type": "code",
   "execution_count": null,
   "id": "940e5876",
   "metadata": {},
   "outputs": [],
   "source": []
  }
 ],
 "metadata": {
  "kernelspec": {
   "display_name": "Python 3 (ipykernel)",
   "language": "python",
   "name": "python3"
  },
  "language_info": {
   "codemirror_mode": {
    "name": "ipython",
    "version": 3
   },
   "file_extension": ".py",
   "mimetype": "text/x-python",
   "name": "python",
   "nbconvert_exporter": "python",
   "pygments_lexer": "ipython3",
   "version": "3.11.5"
  }
 },
 "nbformat": 4,
 "nbformat_minor": 5
}
